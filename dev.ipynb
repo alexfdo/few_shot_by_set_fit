{
 "cells": [
  {
   "cell_type": "code",
   "execution_count": 1,
   "id": "9e8571ce-0d13-476d-a4bb-9142f88f776c",
   "metadata": {},
   "outputs": [],
   "source": [
    "import json\n",
    "from pandas import Series, DataFrame\n",
    "import pandas as pd\n",
    "from bs4 import BeautifulSoup\n",
    "from tqdm.notebook import tqdm\n",
    "import numpy as np\n",
    "\n",
    "tqdm.pandas()"
   ]
  },
  {
   "cell_type": "markdown",
   "id": "d9b35af4-e1b8-42c1-9b96-18cac3f34ee7",
   "metadata": {},
   "source": [
    "## Load comments"
   ]
  },
  {
   "cell_type": "code",
   "execution_count": 2,
   "id": "aae1b4cb-6a9c-4998-8b17-28116ae6df05",
   "metadata": {},
   "outputs": [],
   "source": [
    "import re\n",
    "def split_html_paragraphs(html:str):\n",
    "    # return [s for s in re.split(r\"</?p>|<br/?>\", html) if len(s.strip()) > 0]\n",
    "    return [s for s in re.split(r\"<br/?>\", html) if len(s.strip()) > 0]"
   ]
  },
  {
   "cell_type": "code",
   "execution_count": 3,
   "id": "ddb12069-8ca3-4d01-ae00-c0c38a1e3e60",
   "metadata": {},
   "outputs": [],
   "source": [
    "with open(\"./data/comments.json\") as f:\n",
    "    comment_dict = json.loads(f.read())\n",
    "    comment_dict = [c for c in comment_dict if (c['pageUrl'] is not None) and (c['htmlBody'] is not None)]\n",
    "\n",
    "for c in comment_dict:\n",
    "    if \"?commentId=\" in c['pageUrl']:\n",
    "        c['commentId'] = c['pageUrl'].split(\"?commentId=\")[1]\n",
    "    else:\n",
    "        c['commentId'] = \"discussion#\" + c['pageUrl'].split(\"discussion#\")[1]\n",
    "\n",
    "comment_info = DataFrame(comment_dict).set_index(\"commentId\")\n",
    "comment_info = comment_info[~comment_info.index.duplicated()]\n",
    "# comment_htmls = Series({c['commentId']: c['htmlBody'] for c in comment_dict})\n",
    "\n",
    "# comment_texts = comment_info.htmlBody.progress_map(lambda h: BeautifulSoup(h, features=\"html.parser\").get_text())\n",
    "# comment_texts = comment_texts.map(str.strip)\n",
    "# comment_texts = comment_texts[comment_texts.map(len) > 50]\n",
    "# comment_texts.to_csv(\"./data/comment_texts.csv\")\n",
    "\n",
    "# comment_texts = pd.read_csv(\"./data/comment_texts.csv\").set_index(\"text\").postId\n",
    "# comment_texts.size"
   ]
  },
  {
   "cell_type": "code",
   "execution_count": 4,
   "id": "ad57f5f3-e48d-483a-812e-f0246971b45d",
   "metadata": {},
   "outputs": [],
   "source": [
    "html_split = comment_info.htmlBody.map(split_html_paragraphs)\n",
    "comment_htmls_split = pd.concat(\n",
    "    [comment_info.htmlBody[html_split.map(len) == 1]] + \n",
    "    [Series(ts, index=[f'{cid}--{i}' for i in range(len(ts))]) for cid,ts in html_split[html_split.map(len) > 1].items()]\n",
    ")"
   ]
  },
  {
   "cell_type": "code",
   "execution_count": 5,
   "id": "1257d8bf-c698-432a-b599-a6de0aa6e971",
   "metadata": {},
   "outputs": [
    {
     "data": {
      "application/vnd.jupyter.widget-view+json": {
       "model_id": "49cd9904d0564569b52db44f9c2cdb74",
       "version_major": 2,
       "version_minor": 0
      },
      "text/plain": [
       "  0%|          | 0/106839 [00:00<?, ?it/s]"
      ]
     },
     "metadata": {},
     "output_type": "display_data"
    },
    {
     "name": "stderr",
     "output_type": "stream",
     "text": [
      "/home/vpetukhov/local/miniconda3/envs/interactive_classification/lib/python3.8/site-packages/bs4/__init__.py:435: MarkupResemblesLocatorWarning: The input looks more like a filename than markup. You may want to open this file and pass the filehandle into Beautiful Soup.\n",
      "  warnings.warn(\n",
      "/home/vpetukhov/local/miniconda3/envs/interactive_classification/lib/python3.8/site-packages/bs4/__init__.py:404: MarkupResemblesLocatorWarning: The input looks more like a URL than markup. You may want to use an HTTP client like requests to get the document behind the URL, and feed that document to Beautiful Soup.\n",
      "  warnings.warn(\n"
     ]
    },
    {
     "data": {
      "text/plain": [
       "(89918, 5)"
      ]
     },
     "execution_count": 5,
     "metadata": {},
     "output_type": "execute_result"
    }
   ],
   "source": [
    "comment_info_split = comment_info.loc[comment_htmls_split.index.map(lambda x: x.split('--')[0])].copy()\n",
    "comment_info_split.index = comment_htmls_split.index\n",
    "comment_info_split['htmlBody'] = comment_htmls_split.values\n",
    "comment_info_split['text'] = comment_info_split.htmlBody.progress_map(lambda h: BeautifulSoup(h, features=\"html.parser\").get_text())\n",
    "\n",
    "comment_info_split['text'] = comment_info_split['text'].map(lambda x: ' '.join([w for w in x.split() if len(w) < 40])) # Remove non-words\n",
    "# TODO: there are still some people writing all in bullet-points, so we also need to split lists with long bullet-points, but those are minorities\n",
    "# Removing these long comments:\n",
    "comment_info_split = comment_info_split[(comment_info_split.text.map(len) < 5000) & (comment_info_split.text.map(len) > 70)]\n",
    "comment_info_split.shape"
   ]
  },
  {
   "cell_type": "code",
   "execution_count": 6,
   "id": "78fee7d8-b34c-421c-9eb2-6319c5855d4f",
   "metadata": {},
   "outputs": [
    {
     "data": {
      "text/plain": [
       "<AxesSubplot:>"
      ]
     },
     "execution_count": 6,
     "metadata": {},
     "output_type": "execute_result"
    },
    {
     "data": {
      "image/png": "[encoded data removed]",
      "text/plain": [
       "<Figure size 432x288 with 1 Axes>"
      ]
     },
     "metadata": {
      "needs_background": "light"
     },
     "output_type": "display_data"
    }
   ],
   "source": [
    "comment_info_split.text.map(len).hist(bins=100)"
   ]
  },
  {
   "cell_type": "code",
   "execution_count": 7,
   "id": "4045e453-da65-461c-a79c-cc0df34aabfd",
   "metadata": {},
   "outputs": [],
   "source": [
    "# tpid = comment_info_split.text.map(len)[comment_info_split.text.map(len) < 5000].sort_values().index[-8]\n",
    "# comment_info_split.loc[tpid].pageUrl"
   ]
  },
  {
   "cell_type": "markdown",
   "id": "d0c6f3f2-0b65-4b31-ab8d-1b81ee0d09c5",
   "metadata": {},
   "source": [
    "## Classify"
   ]
  },
  {
   "cell_type": "code",
   "execution_count": 269,
   "id": "e38c689c-6e68-4869-9f87-c4e6929d90bc",
   "metadata": {},
   "outputs": [],
   "source": [
    "# with open(\"./data/example_proposals.txt\") as f:\n",
    "#     sents = f.read()\n",
    "    \n",
    "# sents = [s for s in sents.split(\"\\n\") if len(s) > 0]"
   ]
  },
  {
   "cell_type": "code",
   "execution_count": 8,
   "id": "c1afda2c-1ad2-4b96-ba91-9d6392ad9943",
   "metadata": {},
   "outputs": [
    {
     "name": "stdout",
     "output_type": "stream",
     "text": [
      "2022-07-15 16:38:46,458 loading file /home/vpetukhov/.flair/models/tars-base-v8.pt\n"
     ]
    }
   ],
   "source": [
    "from flair.models import TARSClassifier\n",
    "from flair.data import Sentence\n",
    "\n",
    "tars = TARSClassifier.load('tars-base')"
   ]
  },
  {
   "cell_type": "code",
   "execution_count": 9,
   "id": "4a9bd84f-35c6-4ff2-a20e-9ae8c98d74a4",
   "metadata": {},
   "outputs": [],
   "source": [
    "def get_class_score(clf, cl_lab, text):\n",
    "    st = Sentence(text)\n",
    "    clf.predict_zero_shot(st, [cl_lab], multi_label=False)\n",
    "\n",
    "    lab = st.get_label()\n",
    "    tag = lab.value\n",
    "    score = lab.score if lab.value == cl_lab else 0.0\n",
    "    return score"
   ]
  },
  {
   "cell_type": "code",
   "execution_count": 11,
   "id": "668850d0-a43e-4145-a8e7-9f81a9b069e5",
   "metadata": {},
   "outputs": [
    {
     "data": {
      "application/vnd.jupyter.widget-view+json": {
       "model_id": "43d41c1472bf42299d48a645827c081d",
       "version_major": 2,
       "version_minor": 0
      },
      "text/plain": [
       "  0%|          | 0/2000 [00:00<?, ?it/s]"
      ]
     },
     "metadata": {},
     "output_type": "display_data"
    },
    {
     "data": {
      "text/plain": [
       "0.0275"
      ]
     },
     "execution_count": 11,
     "metadata": {},
     "output_type": "execute_result"
    }
   ],
   "source": [
    "samp_ids = np.random.choice(comment_info_split.index, size=2000, replace=False)\n",
    "class_probs = comment_info_split.text[samp_ids].progress_map(lambda t: get_class_score(tars, \"project proposal\", t))\n",
    "# class_probs.to_pickle(\"./class_probs.pkl\")\n",
    "# class_probs = pd.read_pickle(\"./class_probs.pkl\")\n",
    "(class_probs > 0.75).mean()"
   ]
  },
  {
   "cell_type": "markdown",
   "id": "60ded9ea-516c-46c7-8e86-9865c1fabde7",
   "metadata": {},
   "source": [
    "## Wrapper for the UI integration"
   ]
  },
  {
   "cell_type": "code",
   "execution_count": 13,
   "id": "b8e51b63-b84d-4d43-929e-e31f5ccbf8b3",
   "metadata": {},
   "outputs": [],
   "source": [
    "import sqlite3 as db"
   ]
  },
  {
   "cell_type": "markdown",
   "id": "17d2d473-0f6f-4345-9ea1-a67baec20be2",
   "metadata": {},
   "source": [
    "Create labeled table:"
   ]
  },
  {
   "cell_type": "code",
   "execution_count": 14,
   "id": "006c39ab-82d1-43de-884d-458a16796cc2",
   "metadata": {},
   "outputs": [],
   "source": [
    "def get_target_prob_ids(class_probs:Series, target_prob:float, n_samples:int=10, labeled_ids=None):\n",
    "    if labeled_ids is None:\n",
    "        labeled_ids = []\n",
    "    return (class_probs[class_probs.index.difference(labeled_ids)] - target_prob).abs().sort_values()[:n_samples].index"
   ]
  },
  {
   "cell_type": "code",
   "execution_count": 15,
   "id": "6e780172-a3f3-46db-8aec-f58b4110dd61",
   "metadata": {},
   "outputs": [],
   "source": [
    "# conn = db.connect('./backend/labels.db')\n",
    "# labeled_ids = pd.read_sql_query(\"SELECT postId FROM labels\", conn).postId.values\n",
    "labeled_ids = []\n",
    "closest_ids = get_target_prob_ids(class_probs, target_prob=1.0, n_samples=20, labeled_ids=labeled_ids)"
   ]
  },
  {
   "cell_type": "code",
   "execution_count": 16,
   "id": "ae4db3b1-2fa0-4669-927a-94042ecd06d1",
   "metadata": {},
   "outputs": [],
   "source": [
    "comment_info_split.text[closest_ids].reset_index().to_csv(\"./data/to_classify.csv\", index=True)"
   ]
  },
  {
   "cell_type": "code",
   "execution_count": 11,
   "id": "83e5d996-0090-4510-85b8-324fbf080d84",
   "metadata": {},
   "outputs": [],
   "source": [
    "# pd.read_sql_query(\"SELECT * FROM labels\", conn)"
   ]
  },
  {
   "cell_type": "code",
   "execution_count": null,
   "id": "b77fbf7b-81c0-41ec-be43-b2faba6837e6",
   "metadata": {},
   "outputs": [],
   "source": [
    "# classes = [\"project proposal\"]\n",
    "\n",
    "# for s in sents:\n",
    "#     st = Sentence(s)\n",
    "#     tars.predict_zero_shot(st, classes, multi_label=False)\n",
    "#     print(st)"
   ]
  },
  {
   "cell_type": "markdown",
   "id": "5d2f4584-e950-40d5-9440-6710d9cfd90a",
   "metadata": {},
   "source": [
    "## Fine-tune"
   ]
  },
  {
   "cell_type": "code",
   "execution_count": 20,
   "id": "6c3704d6-bdbd-4666-938c-a33b8a38c224",
   "metadata": {},
   "outputs": [
    {
     "data": {
      "text/html": [
       "<div>\n",
       "<style scoped>\n",
       "    .dataframe tbody tr th:only-of-type {\n",
       "        vertical-align: middle;\n",
       "    }\n",
       "\n",
       "    .dataframe tbody tr th {\n",
       "        vertical-align: top;\n",
       "    }\n",
       "\n",
       "    .dataframe thead th {\n",
       "        text-align: right;\n",
       "    }\n",
       "</style>\n",
       "<table border=\"1\" class=\"dataframe\">\n",
       "  <thead>\n",
       "    <tr style=\"text-align: right;\">\n",
       "      <th></th>\n",
       "      <th>text</th>\n",
       "      <th>label</th>\n",
       "    </tr>\n",
       "  </thead>\n",
       "  <tbody>\n",
       "    <tr>\n",
       "      <th>0</th>\n",
       "      <td>The suggested EA project / org: work to identi...</td>\n",
       "      <td>project proposal</td>\n",
       "    </tr>\n",
       "    <tr>\n",
       "      <th>18</th>\n",
       "      <td>As a concrete program related to the safety of...</td>\n",
       "      <td>project proposal</td>\n",
       "    </tr>\n",
       "    <tr>\n",
       "      <th>30</th>\n",
       "      <td>There is the Earth Species project, an \"open-s...</td>\n",
       "      <td>project proposal</td>\n",
       "    </tr>\n",
       "  </tbody>\n",
       "</table>\n",
       "</div>"
      ],
      "text/plain": [
       "                                                 text             label\n",
       "0   The suggested EA project / org: work to identi...  project proposal\n",
       "18  As a concrete program related to the safety of...  project proposal\n",
       "30  There is the Earth Species project, an \"open-s...  project proposal"
      ]
     },
     "execution_count": 20,
     "metadata": {},
     "output_type": "execute_result"
    }
   ],
   "source": [
    "conn = db.connect('./backend/labels.db')\n",
    "train_df = pd.read_sql_query(\"SELECT text,label FROM labels\", conn)\n",
    "train_df['label'] = np.array(['', 'project proposal'])[train_df['label'].values]\n",
    "train_df.to_csv('./output/flair_train/train.csv', sep='\\t')\n",
    "train_df.to_csv('./output/flair_train/dev.csv', sep='\\t')\n",
    "\n",
    "train_df.sort_values(\"label\", ascending=False).head(3)"
   ]
  },
  {
   "cell_type": "code",
   "execution_count": 21,
   "id": "9d370780-20d1-4831-9989-69395ad64953",
   "metadata": {},
   "outputs": [
    {
     "name": "stdout",
     "output_type": "stream",
     "text": [
      "2022-07-15 17:15:43,410 Reading data from output/flair_train\n",
      "2022-07-15 17:15:43,411 Train: output/flair_train/train.csv\n",
      "2022-07-15 17:15:43,411 Dev: output/flair_train/dev.csv\n",
      "2022-07-15 17:15:43,412 Test: None\n",
      "2022-07-15 17:15:43,415 Computing label dictionary. Progress:\n"
     ]
    },
    {
     "name": "stderr",
     "output_type": "stream",
     "text": [
      "3it [00:00, 781.79it/s]"
     ]
    },
    {
     "name": "stdout",
     "output_type": "stream",
     "text": [
      "2022-07-15 17:15:43,421 Dictionary created for label 'label' with 2 values: project proposal (seen 3 times)\n"
     ]
    },
    {
     "name": "stderr",
     "output_type": "stream",
     "text": [
      "\n"
     ]
    }
   ],
   "source": [
    "from flair.data import Corpus\n",
    "from flair.datasets import CSVClassificationCorpus\n",
    "\n",
    "column_name_map = {1: 'text', 2: 'label'}\n",
    "corpus = CSVClassificationCorpus(\"./output/flair_train/\", column_name_map, label_type=\"label\", skip_header=True, delimiter='\\t', no_class_label=\"\")\n",
    "label_dict = corpus.make_label_dictionary(label_type=\"label\")"
   ]
  },
  {
   "cell_type": "code",
   "execution_count": 22,
   "id": "9c51c9ea-5c7d-4c62-9c31-36969864ecfd",
   "metadata": {},
   "outputs": [],
   "source": [
    "tars.add_and_switch_to_new_task(\"jobs\", label_dictionary=label_dict, label_type=\"label\")"
   ]
  },
  {
   "cell_type": "code",
   "execution_count": 23,
   "id": "4d02644d-17c0-45f2-9efc-f9ea647ebb31",
   "metadata": {
    "collapsed": true,
    "jupyter": {
     "outputs_hidden": true
    },
    "tags": []
   },
   "outputs": [
    {
     "name": "stdout",
     "output_type": "stream",
     "text": [
      "2022-07-15 17:15:47,269 ----------------------------------------------------------------------------------------------------\n",
      "2022-07-15 17:15:47,272 Model: \"TARSClassifier(\n",
      "  (tars_model): TextClassifier(\n",
      "    (decoder): Linear(in_features=768, out_features=2, bias=True)\n",
      "    (dropout): Dropout(p=0.0, inplace=False)\n",
      "    (locked_dropout): LockedDropout(p=0.0)\n",
      "    (word_dropout): WordDropout(p=0.0)\n",
      "    (loss_function): CrossEntropyLoss()\n",
      "    (document_embeddings): TransformerDocumentEmbeddings(\n",
      "      (model): BertModel(\n",
      "        (embeddings): BertEmbeddings(\n",
      "          (word_embeddings): Embedding(30522, 768, padding_idx=0)\n",
      "          (position_embeddings): Embedding(512, 768)\n",
      "          (token_type_embeddings): Embedding(2, 768)\n",
      "          (LayerNorm): LayerNorm((768,), eps=1e-12, elementwise_affine=True)\n",
      "          (dropout): Dropout(p=0.1, inplace=False)\n",
      "        )\n",
      "        (encoder): BertEncoder(\n",
      "          (layer): ModuleList(\n",
      "            (0): BertLayer(\n",
      "              (attention): BertAttention(\n",
      "                (self): BertSelfAttention(\n",
      "                  (query): Linear(in_features=768, out_features=768, bias=True)\n",
      "                  (key): Linear(in_features=768, out_features=768, bias=True)\n",
      "                  (value): Linear(in_features=768, out_features=768, bias=True)\n",
      "                  (dropout): Dropout(p=0.1, inplace=False)\n",
      "                )\n",
      "                (output): BertSelfOutput(\n",
      "                  (dense): Linear(in_features=768, out_features=768, bias=True)\n",
      "                  (LayerNorm): LayerNorm((768,), eps=1e-12, elementwise_affine=True)\n",
      "                  (dropout): Dropout(p=0.1, inplace=False)\n",
      "                )\n",
      "              )\n",
      "              (intermediate): BertIntermediate(\n",
      "                (dense): Linear(in_features=768, out_features=3072, bias=True)\n",
      "                (intermediate_act_fn): GELUActivation()\n",
      "              )\n",
      "              (output): BertOutput(\n",
      "                (dense): Linear(in_features=3072, out_features=768, bias=True)\n",
      "                (LayerNorm): LayerNorm((768,), eps=1e-12, elementwise_affine=True)\n",
      "                (dropout): Dropout(p=0.1, inplace=False)\n",
      "              )\n",
      "            )\n",
      "            (1): BertLayer(\n",
      "              (attention): BertAttention(\n",
      "                (self): BertSelfAttention(\n",
      "                  (query): Linear(in_features=768, out_features=768, bias=True)\n",
      "                  (key): Linear(in_features=768, out_features=768, bias=True)\n",
      "                  (value): Linear(in_features=768, out_features=768, bias=True)\n",
      "                  (dropout): Dropout(p=0.1, inplace=False)\n",
      "                )\n",
      "                (output): BertSelfOutput(\n",
      "                  (dense): Linear(in_features=768, out_features=768, bias=True)\n",
      "                  (LayerNorm): LayerNorm((768,), eps=1e-12, elementwise_affine=True)\n",
      "                  (dropout): Dropout(p=0.1, inplace=False)\n",
      "                )\n",
      "              )\n",
      "              (intermediate): BertIntermediate(\n",
      "                (dense): Linear(in_features=768, out_features=3072, bias=True)\n",
      "                (intermediate_act_fn): GELUActivation()\n",
      "              )\n",
      "              (output): BertOutput(\n",
      "                (dense): Linear(in_features=3072, out_features=768, bias=True)\n",
      "                (LayerNorm): LayerNorm((768,), eps=1e-12, elementwise_affine=True)\n",
      "                (dropout): Dropout(p=0.1, inplace=False)\n",
      "              )\n",
      "            )\n",
      "            (2): BertLayer(\n",
      "              (attention): BertAttention(\n",
      "                (self): BertSelfAttention(\n",
      "                  (query): Linear(in_features=768, out_features=768, bias=True)\n",
      "                  (key): Linear(in_features=768, out_features=768, bias=True)\n",
      "                  (value): Linear(in_features=768, out_features=768, bias=True)\n",
      "                  (dropout): Dropout(p=0.1, inplace=False)\n",
      "                )\n",
      "                (output): BertSelfOutput(\n",
      "                  (dense): Linear(in_features=768, out_features=768, bias=True)\n",
      "                  (LayerNorm): LayerNorm((768,), eps=1e-12, elementwise_affine=True)\n",
      "                  (dropout): Dropout(p=0.1, inplace=False)\n",
      "                )\n",
      "              )\n",
      "              (intermediate): BertIntermediate(\n",
      "                (dense): Linear(in_features=768, out_features=3072, bias=True)\n",
      "                (intermediate_act_fn): GELUActivation()\n",
      "              )\n",
      "              (output): BertOutput(\n",
      "                (dense): Linear(in_features=3072, out_features=768, bias=True)\n",
      "                (LayerNorm): LayerNorm((768,), eps=1e-12, elementwise_affine=True)\n",
      "                (dropout): Dropout(p=0.1, inplace=False)\n",
      "              )\n",
      "            )\n",
      "            (3): BertLayer(\n",
      "              (attention): BertAttention(\n",
      "                (self): BertSelfAttention(\n",
      "                  (query): Linear(in_features=768, out_features=768, bias=True)\n",
      "                  (key): Linear(in_features=768, out_features=768, bias=True)\n",
      "                  (value): Linear(in_features=768, out_features=768, bias=True)\n",
      "                  (dropout): Dropout(p=0.1, inplace=False)\n",
      "                )\n",
      "                (output): BertSelfOutput(\n",
      "                  (dense): Linear(in_features=768, out_features=768, bias=True)\n",
      "                  (LayerNorm): LayerNorm((768,), eps=1e-12, elementwise_affine=True)\n",
      "                  (dropout): Dropout(p=0.1, inplace=False)\n",
      "                )\n",
      "              )\n",
      "              (intermediate): BertIntermediate(\n",
      "                (dense): Linear(in_features=768, out_features=3072, bias=True)\n",
      "                (intermediate_act_fn): GELUActivation()\n",
      "              )\n",
      "              (output): BertOutput(\n",
      "                (dense): Linear(in_features=3072, out_features=768, bias=True)\n",
      "                (LayerNorm): LayerNorm((768,), eps=1e-12, elementwise_affine=True)\n",
      "                (dropout): Dropout(p=0.1, inplace=False)\n",
      "              )\n",
      "            )\n",
      "            (4): BertLayer(\n",
      "              (attention): BertAttention(\n",
      "                (self): BertSelfAttention(\n",
      "                  (query): Linear(in_features=768, out_features=768, bias=True)\n",
      "                  (key): Linear(in_features=768, out_features=768, bias=True)\n",
      "                  (value): Linear(in_features=768, out_features=768, bias=True)\n",
      "                  (dropout): Dropout(p=0.1, inplace=False)\n",
      "                )\n",
      "                (output): BertSelfOutput(\n",
      "                  (dense): Linear(in_features=768, out_features=768, bias=True)\n",
      "                  (LayerNorm): LayerNorm((768,), eps=1e-12, elementwise_affine=True)\n",
      "                  (dropout): Dropout(p=0.1, inplace=False)\n",
      "                )\n",
      "              )\n",
      "              (intermediate): BertIntermediate(\n",
      "                (dense): Linear(in_features=768, out_features=3072, bias=True)\n",
      "                (intermediate_act_fn): GELUActivation()\n",
      "              )\n",
      "              (output): BertOutput(\n",
      "                (dense): Linear(in_features=3072, out_features=768, bias=True)\n",
      "                (LayerNorm): LayerNorm((768,), eps=1e-12, elementwise_affine=True)\n",
      "                (dropout): Dropout(p=0.1, inplace=False)\n",
      "              )\n",
      "            )\n",
      "            (5): BertLayer(\n",
      "              (attention): BertAttention(\n",
      "                (self): BertSelfAttention(\n",
      "                  (query): Linear(in_features=768, out_features=768, bias=True)\n",
      "                  (key): Linear(in_features=768, out_features=768, bias=True)\n",
      "                  (value): Linear(in_features=768, out_features=768, bias=True)\n",
      "                  (dropout): Dropout(p=0.1, inplace=False)\n",
      "                )\n",
      "                (output): BertSelfOutput(\n",
      "                  (dense): Linear(in_features=768, out_features=768, bias=True)\n",
      "                  (LayerNorm): LayerNorm((768,), eps=1e-12, elementwise_affine=True)\n",
      "                  (dropout): Dropout(p=0.1, inplace=False)\n",
      "                )\n",
      "              )\n",
      "              (intermediate): BertIntermediate(\n",
      "                (dense): Linear(in_features=768, out_features=3072, bias=True)\n",
      "                (intermediate_act_fn): GELUActivation()\n",
      "              )\n",
      "              (output): BertOutput(\n",
      "                (dense): Linear(in_features=3072, out_features=768, bias=True)\n",
      "                (LayerNorm): LayerNorm((768,), eps=1e-12, elementwise_affine=True)\n",
      "                (dropout): Dropout(p=0.1, inplace=False)\n",
      "              )\n",
      "            )\n",
      "            (6): BertLayer(\n",
      "              (attention): BertAttention(\n",
      "                (self): BertSelfAttention(\n",
      "                  (query): Linear(in_features=768, out_features=768, bias=True)\n",
      "                  (key): Linear(in_features=768, out_features=768, bias=True)\n",
      "                  (value): Linear(in_features=768, out_features=768, bias=True)\n",
      "                  (dropout): Dropout(p=0.1, inplace=False)\n",
      "                )\n",
      "                (output): BertSelfOutput(\n",
      "                  (dense): Linear(in_features=768, out_features=768, bias=True)\n",
      "                  (LayerNorm): LayerNorm((768,), eps=1e-12, elementwise_affine=True)\n",
      "                  (dropout): Dropout(p=0.1, inplace=False)\n",
      "                )\n",
      "              )\n",
      "              (intermediate): BertIntermediate(\n",
      "                (dense): Linear(in_features=768, out_features=3072, bias=True)\n",
      "                (intermediate_act_fn): GELUActivation()\n",
      "              )\n",
      "              (output): BertOutput(\n",
      "                (dense): Linear(in_features=3072, out_features=768, bias=True)\n",
      "                (LayerNorm): LayerNorm((768,), eps=1e-12, elementwise_affine=True)\n",
      "                (dropout): Dropout(p=0.1, inplace=False)\n",
      "              )\n",
      "            )\n",
      "            (7): BertLayer(\n",
      "              (attention): BertAttention(\n",
      "                (self): BertSelfAttention(\n",
      "                  (query): Linear(in_features=768, out_features=768, bias=True)\n",
      "                  (key): Linear(in_features=768, out_features=768, bias=True)\n",
      "                  (value): Linear(in_features=768, out_features=768, bias=True)\n",
      "                  (dropout): Dropout(p=0.1, inplace=False)\n",
      "                )\n",
      "                (output): BertSelfOutput(\n",
      "                  (dense): Linear(in_features=768, out_features=768, bias=True)\n",
      "                  (LayerNorm): LayerNorm((768,), eps=1e-12, elementwise_affine=True)\n",
      "                  (dropout): Dropout(p=0.1, inplace=False)\n",
      "                )\n",
      "              )\n",
      "              (intermediate): BertIntermediate(\n",
      "                (dense): Linear(in_features=768, out_features=3072, bias=True)\n",
      "                (intermediate_act_fn): GELUActivation()\n",
      "              )\n",
      "              (output): BertOutput(\n",
      "                (dense): Linear(in_features=3072, out_features=768, bias=True)\n",
      "                (LayerNorm): LayerNorm((768,), eps=1e-12, elementwise_affine=True)\n",
      "                (dropout): Dropout(p=0.1, inplace=False)\n",
      "              )\n",
      "            )\n",
      "            (8): BertLayer(\n",
      "              (attention): BertAttention(\n",
      "                (self): BertSelfAttention(\n",
      "                  (query): Linear(in_features=768, out_features=768, bias=True)\n",
      "                  (key): Linear(in_features=768, out_features=768, bias=True)\n",
      "                  (value): Linear(in_features=768, out_features=768, bias=True)\n",
      "                  (dropout): Dropout(p=0.1, inplace=False)\n",
      "                )\n",
      "                (output): BertSelfOutput(\n",
      "                  (dense): Linear(in_features=768, out_features=768, bias=True)\n",
      "                  (LayerNorm): LayerNorm((768,), eps=1e-12, elementwise_affine=True)\n",
      "                  (dropout): Dropout(p=0.1, inplace=False)\n",
      "                )\n",
      "              )\n",
      "              (intermediate): BertIntermediate(\n",
      "                (dense): Linear(in_features=768, out_features=3072, bias=True)\n",
      "                (intermediate_act_fn): GELUActivation()\n",
      "              )\n",
      "              (output): BertOutput(\n",
      "                (dense): Linear(in_features=3072, out_features=768, bias=True)\n",
      "                (LayerNorm): LayerNorm((768,), eps=1e-12, elementwise_affine=True)\n",
      "                (dropout): Dropout(p=0.1, inplace=False)\n",
      "              )\n",
      "            )\n",
      "            (9): BertLayer(\n",
      "              (attention): BertAttention(\n",
      "                (self): BertSelfAttention(\n",
      "                  (query): Linear(in_features=768, out_features=768, bias=True)\n",
      "                  (key): Linear(in_features=768, out_features=768, bias=True)\n",
      "                  (value): Linear(in_features=768, out_features=768, bias=True)\n",
      "                  (dropout): Dropout(p=0.1, inplace=False)\n",
      "                )\n",
      "                (output): BertSelfOutput(\n",
      "                  (dense): Linear(in_features=768, out_features=768, bias=True)\n",
      "                  (LayerNorm): LayerNorm((768,), eps=1e-12, elementwise_affine=True)\n",
      "                  (dropout): Dropout(p=0.1, inplace=False)\n",
      "                )\n",
      "              )\n",
      "              (intermediate): BertIntermediate(\n",
      "                (dense): Linear(in_features=768, out_features=3072, bias=True)\n",
      "                (intermediate_act_fn): GELUActivation()\n",
      "              )\n",
      "              (output): BertOutput(\n",
      "                (dense): Linear(in_features=3072, out_features=768, bias=True)\n",
      "                (LayerNorm): LayerNorm((768,), eps=1e-12, elementwise_affine=True)\n",
      "                (dropout): Dropout(p=0.1, inplace=False)\n",
      "              )\n",
      "            )\n",
      "            (10): BertLayer(\n",
      "              (attention): BertAttention(\n",
      "                (self): BertSelfAttention(\n",
      "                  (query): Linear(in_features=768, out_features=768, bias=True)\n",
      "                  (key): Linear(in_features=768, out_features=768, bias=True)\n",
      "                  (value): Linear(in_features=768, out_features=768, bias=True)\n",
      "                  (dropout): Dropout(p=0.1, inplace=False)\n",
      "                )\n",
      "                (output): BertSelfOutput(\n",
      "                  (dense): Linear(in_features=768, out_features=768, bias=True)\n",
      "                  (LayerNorm): LayerNorm((768,), eps=1e-12, elementwise_affine=True)\n",
      "                  (dropout): Dropout(p=0.1, inplace=False)\n",
      "                )\n",
      "              )\n",
      "              (intermediate): BertIntermediate(\n",
      "                (dense): Linear(in_features=768, out_features=3072, bias=True)\n",
      "                (intermediate_act_fn): GELUActivation()\n",
      "              )\n",
      "              (output): BertOutput(\n",
      "                (dense): Linear(in_features=3072, out_features=768, bias=True)\n",
      "                (LayerNorm): LayerNorm((768,), eps=1e-12, elementwise_affine=True)\n",
      "                (dropout): Dropout(p=0.1, inplace=False)\n",
      "              )\n",
      "            )\n",
      "            (11): BertLayer(\n",
      "              (attention): BertAttention(\n",
      "                (self): BertSelfAttention(\n",
      "                  (query): Linear(in_features=768, out_features=768, bias=True)\n",
      "                  (key): Linear(in_features=768, out_features=768, bias=True)\n",
      "                  (value): Linear(in_features=768, out_features=768, bias=True)\n",
      "                  (dropout): Dropout(p=0.1, inplace=False)\n",
      "                )\n",
      "                (output): BertSelfOutput(\n",
      "                  (dense): Linear(in_features=768, out_features=768, bias=True)\n",
      "                  (LayerNorm): LayerNorm((768,), eps=1e-12, elementwise_affine=True)\n",
      "                  (dropout): Dropout(p=0.1, inplace=False)\n",
      "                )\n",
      "              )\n",
      "              (intermediate): BertIntermediate(\n",
      "                (dense): Linear(in_features=768, out_features=3072, bias=True)\n",
      "                (intermediate_act_fn): GELUActivation()\n",
      "              )\n",
      "              (output): BertOutput(\n",
      "                (dense): Linear(in_features=3072, out_features=768, bias=True)\n",
      "                (LayerNorm): LayerNorm((768,), eps=1e-12, elementwise_affine=True)\n",
      "                (dropout): Dropout(p=0.1, inplace=False)\n",
      "              )\n",
      "            )\n",
      "          )\n",
      "        )\n",
      "        (pooler): BertPooler(\n",
      "          (dense): Linear(in_features=768, out_features=768, bias=True)\n",
      "          (activation): Tanh()\n",
      "        )\n",
      "      )\n",
      "    )\n",
      "  )\n",
      ")\"\n",
      "2022-07-15 17:15:47,272 ----------------------------------------------------------------------------------------------------\n",
      "2022-07-15 17:15:47,273 Corpus: \"Corpus: 3 train + 3 dev + 0 test sentences\"\n",
      "2022-07-15 17:15:47,274 ----------------------------------------------------------------------------------------------------\n",
      "2022-07-15 17:15:47,274 Parameters:\n",
      "2022-07-15 17:15:47,275  - learning_rate: \"0.020000\"\n",
      "2022-07-15 17:15:47,276  - mini_batch_size: \"16\"\n",
      "2022-07-15 17:15:47,276  - patience: \"3\"\n",
      "2022-07-15 17:15:47,277  - anneal_factor: \"0.5\"\n",
      "2022-07-15 17:15:47,279  - max_epochs: \"10\"\n",
      "2022-07-15 17:15:47,279  - shuffle: \"True\"\n",
      "2022-07-15 17:15:47,280  - train_with_dev: \"False\"\n",
      "2022-07-15 17:15:47,280  - batch_growth_annealing: \"False\"\n",
      "2022-07-15 17:15:47,281 ----------------------------------------------------------------------------------------------------\n",
      "2022-07-15 17:15:47,281 Model training base path: \"output/flair_train/artifacts\"\n",
      "2022-07-15 17:15:47,282 ----------------------------------------------------------------------------------------------------\n",
      "2022-07-15 17:15:47,283 Device: cpu\n",
      "2022-07-15 17:15:47,283 ----------------------------------------------------------------------------------------------------\n",
      "2022-07-15 17:15:47,284 Embeddings storage mode: cpu\n",
      "2022-07-15 17:15:47,284 ----------------------------------------------------------------------------------------------------\n"
     ]
    },
    {
     "name": "stderr",
     "output_type": "stream",
     "text": [
      "/home/vpetukhov/local/miniconda3/envs/interactive_classification/lib/python3.8/site-packages/flair/trainers/trainer.py:64: UserWarning: There should be no best model saved at epoch 1 except there is a model from previous trainings in your training folder. All previous best models will be deleted.\n",
      "  warnings.warn(\n"
     ]
    },
    {
     "name": "stdout",
     "output_type": "stream",
     "text": [
      "2022-07-15 17:15:48,503 epoch 1 - iter 1/1 - loss 0.05037894 - samples/sec: 13.77 - lr: 0.020000\n",
      "2022-07-15 17:15:48,505 ----------------------------------------------------------------------------------------------------\n",
      "2022-07-15 17:15:48,506 EPOCH 1 done: loss 0.0504 - lr 0.020000\n"
     ]
    },
    {
     "name": "stderr",
     "output_type": "stream",
     "text": [
      "100%|██████████████████████████████████████████████████████████████████████████████████████████████████████████████████████████████████████████████████████████████████████████████████████████████████████████| 1/1 [00:00<00:00,  2.98it/s]"
     ]
    },
    {
     "name": "stdout",
     "output_type": "stream",
     "text": [
      "2022-07-15 17:15:48,846 Evaluating as a multi-label problem: False\n",
      "2022-07-15 17:15:48,858 DEV : loss 0.003526731627061963 - f1-score (micro avg)  1.0\n",
      "2022-07-15 17:15:48,864 BAD EPOCHS (no improvement): 0\n",
      "2022-07-15 17:15:48,865 saving best model\n"
     ]
    },
    {
     "name": "stderr",
     "output_type": "stream",
     "text": [
      "\n"
     ]
    },
    {
     "name": "stdout",
     "output_type": "stream",
     "text": [
      "2022-07-15 17:15:49,454 ----------------------------------------------------------------------------------------------------\n",
      "2022-07-15 17:15:50,608 epoch 2 - iter 1/1 - loss 0.00097065 - samples/sec: 14.40 - lr: 0.020000\n",
      "2022-07-15 17:15:50,611 ----------------------------------------------------------------------------------------------------\n",
      "2022-07-15 17:15:50,612 EPOCH 2 done: loss 0.0010 - lr 0.020000\n"
     ]
    },
    {
     "name": "stderr",
     "output_type": "stream",
     "text": [
      "100%|██████████████████████████████████████████████████████████████████████████████████████████████████████████████████████████████████████████████████████████████████████████████████████████████████████████| 1/1 [00:00<00:00,  2.90it/s]"
     ]
    },
    {
     "name": "stdout",
     "output_type": "stream",
     "text": [
      "2022-07-15 17:15:50,961 Evaluating as a multi-label problem: False\n",
      "2022-07-15 17:15:50,972 DEV : loss 0.002646335167810321 - f1-score (micro avg)  1.0\n",
      "2022-07-15 17:15:50,978 BAD EPOCHS (no improvement): 0\n",
      "2022-07-15 17:15:50,979 ----------------------------------------------------------------------------------------------------\n"
     ]
    },
    {
     "name": "stderr",
     "output_type": "stream",
     "text": [
      "\n"
     ]
    },
    {
     "name": "stdout",
     "output_type": "stream",
     "text": [
      "2022-07-15 17:15:52,077 epoch 3 - iter 1/1 - loss 0.00172945 - samples/sec: 15.16 - lr: 0.020000\n",
      "2022-07-15 17:15:52,080 ----------------------------------------------------------------------------------------------------\n",
      "2022-07-15 17:15:52,081 EPOCH 3 done: loss 0.0017 - lr 0.020000\n"
     ]
    },
    {
     "name": "stderr",
     "output_type": "stream",
     "text": [
      "100%|██████████████████████████████████████████████████████████████████████████████████████████████████████████████████████████████████████████████████████████████████████████████████████████████████████████| 1/1 [00:00<00:00,  3.15it/s]"
     ]
    },
    {
     "name": "stdout",
     "output_type": "stream",
     "text": [
      "2022-07-15 17:15:52,403 Evaluating as a multi-label problem: False\n",
      "2022-07-15 17:15:52,417 DEV : loss 0.001737547921948135 - f1-score (micro avg)  1.0\n",
      "2022-07-15 17:15:52,423 BAD EPOCHS (no improvement): 0\n",
      "2022-07-15 17:15:52,424 ----------------------------------------------------------------------------------------------------\n"
     ]
    },
    {
     "name": "stderr",
     "output_type": "stream",
     "text": [
      "\n"
     ]
    },
    {
     "name": "stdout",
     "output_type": "stream",
     "text": [
      "2022-07-15 17:15:53,770 epoch 4 - iter 1/1 - loss 0.00105890 - samples/sec: 12.40 - lr: 0.020000\n",
      "2022-07-15 17:15:53,774 ----------------------------------------------------------------------------------------------------\n",
      "2022-07-15 17:15:53,775 EPOCH 4 done: loss 0.0011 - lr 0.020000\n"
     ]
    },
    {
     "name": "stderr",
     "output_type": "stream",
     "text": [
      "100%|██████████████████████████████████████████████████████████████████████████████████████████████████████████████████████████████████████████████████████████████████████████████████████████████████████████| 1/1 [00:00<00:00,  2.82it/s]"
     ]
    },
    {
     "name": "stdout",
     "output_type": "stream",
     "text": [
      "2022-07-15 17:15:54,139 Evaluating as a multi-label problem: False\n",
      "2022-07-15 17:15:54,152 DEV : loss 0.0013952214503660798 - f1-score (micro avg)  1.0\n",
      "2022-07-15 17:15:54,159 BAD EPOCHS (no improvement): 0\n",
      "2022-07-15 17:15:54,162 ----------------------------------------------------------------------------------------------------\n"
     ]
    },
    {
     "name": "stderr",
     "output_type": "stream",
     "text": [
      "\n"
     ]
    },
    {
     "name": "stdout",
     "output_type": "stream",
     "text": [
      "2022-07-15 17:15:55,468 epoch 5 - iter 1/1 - loss 0.00073950 - samples/sec: 12.70 - lr: 0.020000\n",
      "2022-07-15 17:15:55,470 ----------------------------------------------------------------------------------------------------\n",
      "2022-07-15 17:15:55,471 EPOCH 5 done: loss 0.0007 - lr 0.020000\n"
     ]
    },
    {
     "name": "stderr",
     "output_type": "stream",
     "text": [
      "100%|██████████████████████████████████████████████████████████████████████████████████████████████████████████████████████████████████████████████████████████████████████████████████████████████████████████| 1/1 [00:00<00:00,  2.67it/s]"
     ]
    },
    {
     "name": "stdout",
     "output_type": "stream",
     "text": [
      "2022-07-15 17:15:55,851 Evaluating as a multi-label problem: False\n",
      "2022-07-15 17:15:55,864 DEV : loss 0.0011605862528085709 - f1-score (micro avg)  1.0\n",
      "2022-07-15 17:15:55,870 BAD EPOCHS (no improvement): 0\n",
      "2022-07-15 17:15:55,871 ----------------------------------------------------------------------------------------------------\n"
     ]
    },
    {
     "name": "stderr",
     "output_type": "stream",
     "text": [
      "\n"
     ]
    },
    {
     "name": "stdout",
     "output_type": "stream",
     "text": [
      "2022-07-15 17:15:57,200 epoch 6 - iter 1/1 - loss 0.00051253 - samples/sec: 12.46 - lr: 0.020000\n",
      "2022-07-15 17:15:57,202 ----------------------------------------------------------------------------------------------------\n",
      "2022-07-15 17:15:57,202 EPOCH 6 done: loss 0.0005 - lr 0.020000\n"
     ]
    },
    {
     "name": "stderr",
     "output_type": "stream",
     "text": [
      "100%|██████████████████████████████████████████████████████████████████████████████████████████████████████████████████████████████████████████████████████████████████████████████████████████████████████████| 1/1 [00:00<00:00,  3.17it/s]"
     ]
    },
    {
     "name": "stdout",
     "output_type": "stream",
     "text": [
      "2022-07-15 17:15:57,522 Evaluating as a multi-label problem: False\n",
      "2022-07-15 17:15:57,535 DEV : loss 0.001008349470794201 - f1-score (micro avg)  1.0\n",
      "2022-07-15 17:15:57,542 BAD EPOCHS (no improvement): 0\n",
      "2022-07-15 17:15:57,543 ----------------------------------------------------------------------------------------------------\n"
     ]
    },
    {
     "name": "stderr",
     "output_type": "stream",
     "text": [
      "\n"
     ]
    },
    {
     "name": "stdout",
     "output_type": "stream",
     "text": [
      "2022-07-15 17:15:58,687 epoch 7 - iter 1/1 - loss 0.00072862 - samples/sec: 14.51 - lr: 0.020000\n",
      "2022-07-15 17:15:58,690 ----------------------------------------------------------------------------------------------------\n",
      "2022-07-15 17:15:58,691 EPOCH 7 done: loss 0.0007 - lr 0.020000\n"
     ]
    },
    {
     "name": "stderr",
     "output_type": "stream",
     "text": [
      "100%|██████████████████████████████████████████████████████████████████████████████████████████████████████████████████████████████████████████████████████████████████████████████████████████████████████████| 1/1 [00:00<00:00,  2.86it/s]"
     ]
    },
    {
     "name": "stdout",
     "output_type": "stream",
     "text": [
      "2022-07-15 17:15:59,045 Evaluating as a multi-label problem: False\n",
      "2022-07-15 17:15:59,057 DEV : loss 0.0008032931946218014 - f1-score (micro avg)  1.0\n",
      "2022-07-15 17:15:59,063 BAD EPOCHS (no improvement): 0\n",
      "2022-07-15 17:15:59,064 ----------------------------------------------------------------------------------------------------\n"
     ]
    },
    {
     "name": "stderr",
     "output_type": "stream",
     "text": [
      "\n"
     ]
    },
    {
     "name": "stdout",
     "output_type": "stream",
     "text": [
      "2022-07-15 17:16:00,313 epoch 8 - iter 1/1 - loss 0.00054428 - samples/sec: 13.27 - lr: 0.020000\n",
      "2022-07-15 17:16:00,316 ----------------------------------------------------------------------------------------------------\n",
      "2022-07-15 17:16:00,317 EPOCH 8 done: loss 0.0005 - lr 0.020000\n"
     ]
    },
    {
     "name": "stderr",
     "output_type": "stream",
     "text": [
      "100%|██████████████████████████████████████████████████████████████████████████████████████████████████████████████████████████████████████████████████████████████████████████████████████████████████████████| 1/1 [00:00<00:00,  2.71it/s]"
     ]
    },
    {
     "name": "stdout",
     "output_type": "stream",
     "text": [
      "2022-07-15 17:16:00,689 Evaluating as a multi-label problem: False\n",
      "2022-07-15 17:16:00,702 DEV : loss 0.0007176553481258452 - f1-score (micro avg)  1.0\n",
      "2022-07-15 17:16:00,708 BAD EPOCHS (no improvement): 0\n",
      "2022-07-15 17:16:00,710 ----------------------------------------------------------------------------------------------------\n"
     ]
    },
    {
     "name": "stderr",
     "output_type": "stream",
     "text": [
      "\n"
     ]
    },
    {
     "name": "stdout",
     "output_type": "stream",
     "text": [
      "2022-07-15 17:16:02,168 epoch 9 - iter 1/1 - loss 0.00045894 - samples/sec: 11.31 - lr: 0.020000\n",
      "2022-07-15 17:16:02,172 ----------------------------------------------------------------------------------------------------\n",
      "2022-07-15 17:16:02,173 EPOCH 9 done: loss 0.0005 - lr 0.020000\n"
     ]
    },
    {
     "name": "stderr",
     "output_type": "stream",
     "text": [
      "100%|██████████████████████████████████████████████████████████████████████████████████████████████████████████████████████████████████████████████████████████████████████████████████████████████████████████| 1/1 [00:00<00:00,  2.39it/s]"
     ]
    },
    {
     "name": "stdout",
     "output_type": "stream",
     "text": [
      "2022-07-15 17:16:02,596 Evaluating as a multi-label problem: False\n",
      "2022-07-15 17:16:02,610 DEV : loss 0.0006246347329579294 - f1-score (micro avg)  1.0\n",
      "2022-07-15 17:16:02,617 BAD EPOCHS (no improvement): 0\n",
      "2022-07-15 17:16:02,619 ----------------------------------------------------------------------------------------------------\n"
     ]
    },
    {
     "name": "stderr",
     "output_type": "stream",
     "text": [
      "\n"
     ]
    },
    {
     "name": "stdout",
     "output_type": "stream",
     "text": [
      "2022-07-15 17:16:04,042 epoch 10 - iter 1/1 - loss 0.00029327 - samples/sec: 11.68 - lr: 0.020000\n",
      "2022-07-15 17:16:04,044 ----------------------------------------------------------------------------------------------------\n",
      "2022-07-15 17:16:04,046 EPOCH 10 done: loss 0.0003 - lr 0.020000\n"
     ]
    },
    {
     "name": "stderr",
     "output_type": "stream",
     "text": [
      "100%|██████████████████████████████████████████████████████████████████████████████████████████████████████████████████████████████████████████████████████████████████████████████████████████████████████████| 1/1 [00:00<00:00,  2.68it/s]"
     ]
    },
    {
     "name": "stdout",
     "output_type": "stream",
     "text": [
      "2022-07-15 17:16:04,424 Evaluating as a multi-label problem: False\n",
      "2022-07-15 17:16:04,437 DEV : loss 0.0005788668640889227 - f1-score (micro avg)  1.0\n",
      "2022-07-15 17:16:04,445 BAD EPOCHS (no improvement): 0\n"
     ]
    },
    {
     "name": "stderr",
     "output_type": "stream",
     "text": [
      "\n"
     ]
    },
    {
     "name": "stdout",
     "output_type": "stream",
     "text": [
      "2022-07-15 17:16:05,211 Test data not provided setting final score to 0\n"
     ]
    },
    {
     "data": {
      "text/plain": [
       "{'test_score': 0,\n",
       " 'dev_score_history': [1.0, 1.0, 1.0, 1.0, 1.0, 1.0, 1.0, 1.0, 1.0, 1.0],\n",
       " 'train_loss_history': [0.05037894348303477,\n",
       "  0.0009706520165006319,\n",
       "  0.0017294536034266155,\n",
       "  0.0010589007288217545,\n",
       "  0.0007394989176342884,\n",
       "  0.0005125256332879266,\n",
       "  0.0007286227773874998,\n",
       "  0.0005442828017597398,\n",
       "  0.0004589410576348503,\n",
       "  0.0002932692295871675],\n",
       " 'dev_loss_history': [0.003526731627061963,\n",
       "  0.002646335167810321,\n",
       "  0.001737547921948135,\n",
       "  0.0013952214503660798,\n",
       "  0.0011605862528085709,\n",
       "  0.001008349470794201,\n",
       "  0.0008032931946218014,\n",
       "  0.0007176553481258452,\n",
       "  0.0006246347329579294,\n",
       "  0.0005788668640889227]}"
      ]
     },
     "execution_count": 23,
     "metadata": {},
     "output_type": "execute_result"
    }
   ],
   "source": [
    "from flair.models import TARSClassifier\n",
    "from flair.trainers import ModelTrainer\n",
    "\n",
    "trainer = ModelTrainer(tars, corpus)\n",
    "\n",
    "trainer.train(base_path='./output/flair_train/artifacts/', # path to store the model artifacts\n",
    "              learning_rate=0.02, # use very small learning rate\n",
    "              mini_batch_size=16,\n",
    "              mini_batch_chunk_size=4, # optionally set this if transformer is too much for your machine\n",
    "              max_epochs=10, # terminate after 10 epochs\n",
    "              )"
   ]
  },
  {
   "cell_type": "code",
   "execution_count": 24,
   "id": "377440a6-8a54-4fb2-8911-a2f02f7b1740",
   "metadata": {},
   "outputs": [
    {
     "data": {
      "application/vnd.jupyter.widget-view+json": {
       "model_id": "a06dc23aca134e899a0e06ef4a97c144",
       "version_major": 2,
       "version_minor": 0
      },
      "text/plain": [
       "  0%|          | 0/2000 [00:00<?, ?it/s]"
      ]
     },
     "metadata": {},
     "output_type": "display_data"
    },
    {
     "data": {
      "text/plain": [
       "0.167"
      ]
     },
     "execution_count": 24,
     "metadata": {},
     "output_type": "execute_result"
    }
   ],
   "source": [
    "samp_ids = np.random.choice(comment_info_split.index, size=2000, replace=False)\n",
    "class_probs = comment_info_split.text[samp_ids].progress_map(lambda t: get_class_score(tars, \"project proposal\", t))\n",
    "(class_probs > 0.75).mean()"
   ]
  },
  {
   "cell_type": "code",
   "execution_count": 25,
   "id": "7c8df2b7-34bc-4261-a107-127f182fcb76",
   "metadata": {},
   "outputs": [],
   "source": [
    "labeled_ids = pd.read_sql_query(\"SELECT postId FROM labels\", conn).postId.values\n",
    "closest_ids = get_target_prob_ids(class_probs, target_prob=1.0, n_samples=50, labeled_ids=labeled_ids)"
   ]
  },
  {
   "cell_type": "markdown",
   "id": "4970f834-8180-4686-9e04-e871654b748b",
   "metadata": {},
   "source": [
    "- Can use Colab as a training set\n",
    "- Can contribute GraphQL documentation as our result"
   ]
  },
  {
   "cell_type": "code",
   "execution_count": 26,
   "id": "ee089d03-f1e4-45fd-9b77-5556f4b4e87a",
   "metadata": {},
   "outputs": [],
   "source": [
    "comment_info_split.text[closest_ids].reset_index().to_csv(\"./data/to_classify.csv\", index=True)"
   ]
  }
 ],
 "metadata": {
  "kernelspec": {
   "display_name": "PyCharm (DocumentMap)",
   "language": "python",
   "name": "pycharm-ce2a30ac"
  },
  "language_info": {
   "codemirror_mode": {
    "name": "ipython",
    "version": 3
   },
   "file_extension": ".py",
   "mimetype": "text/x-python",
   "name": "python",
   "nbconvert_exporter": "python",
   "pygments_lexer": "ipython3",
   "version": "3.6.9"
  }
 },
 "nbformat": 4,
 "nbformat_minor": 5
}
